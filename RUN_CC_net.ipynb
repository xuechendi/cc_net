{
 "cells": [
  {
   "cell_type": "code",
   "execution_count": 8,
   "metadata": {
    "scrolled": false
   },
   "outputs": [
    {
     "name": "stderr",
     "output_type": "stream",
     "text": [
      "2023-08-03 02:48 INFO 411304:cc_net.jsonql - Opening /mnt/nvme0n1/chendi/cc_net/test_data/mined_split/2019-09/0000/de_head.json.gz with mode 'rt'\n"
     ]
    },
    {
     "name": "stdout",
     "output_type": "stream",
     "text": [
      "{'url': 'http://aas18.wegewerk.org/aktuelles/2017/lagebild-antisemitismus-2016-2017-antisemitismus-wird-offener-und-aggressiver-ausgelebt/', 'date_download': '2019-02-15T18:52:41Z', 'digest': 'sha1:NCWQZ2OV6FGT5TWZDWRNX5Y7JDWJKZS2', 'length': 8966, 'nlines': 54, 'source_domain': 'aas18.wegewerk.org', 'title': 'Lagebild Antisemitismus 2016/2017: Antisemitismus wird offener und aggressiver ausgelebt ~ Amadeu Antonio Stiftung', 'raw_content': 'Aktionswochen gegen Antisemitismus\\nGeförderte Projekte\\nGender und Rechts-extremismusprävention\\nKein Ort für Neonazis\\nOpferfonds CURA\\nLagebild Antisemitismus 2016/2017: Antisemitismus wird offener und aggressiver ausgelebt\\nSpenden gegen Rechtsextremismus\\nIch möchte spenden*\\nEinmalig Monatlich Vierteljährlich Halbjährlich Jährlich\\nSpendenzweck Amadeu Antonio Stiftung Aus Flüchtlingen werden Nachbarn Kein Ort für Neonazis Projekte und Initiativen Projekte gegen Antisemitismus Jugendinitiativen stern-Aktion \"MUT\" Opferfonds Cura Netz-gegen-Nazis.de\\nSpenden und stiften\\nDie Stiftung aktiv\\nFAQ - Die Amadeu Antonio Stiftung zum Thema Hassrede im Netz\\nUns unterstützen:\\nChristian Berkel, Schauspieler\\n„Flüchtlinge sollten unseren Schutz finden – deshalb müssen wir rechten Parolen Einhalt gebieten. Die Amadeu Antonio Stiftung unterstützt wichtige Projekte für eine Willkommenskultur.“\\nPeter Maffay, Musiker\\n„Es herrscht noch immer zu viel Unkenntnis gegenüber anderen Kulturen, aus der Feindseligkeit entsteht. Wir müssen lernen, über diesen Tellerrand hinaus zu sehen und kapieren, dass wir voneinander abhängig sind.\"\\nBjörn Harras, Schauspieler\\n„In den Medien hört man täglich, wie Menschen Opfer von Diskriminierung und Ausgrenzung werden. Weil Ermutigung und Aufklärung die besten Mittel gegen Intoleranz sind, unterstütze ich die Amadeu Antonio Stiftung.“\\nCem Özdemir, Gründungskurator der Amadeu Antonio Stiftung\\n„Menschen, die gegen Rechts-extremismus, Rassismus und Antisemitismus angehen, stärken unsere demokratische Zivilgesell-schaft. Die Amadeu Antonio Stiftung unterstützt sie und leistet damit wertvolle Arbeit.\"\\nIse Bosch, Dreilinden gGmbH\\n„Wir alle sind gegen rechte Gewalt - die Amadeu Antonio Stiftung fördert diejenigen, die etwas dagegen tun, an vielen Orten und mit langem Atem. Sie geht dabei keine vorschnellen Kompromisse ein.“\\nDie Amadeu Antonio Stiftung hat ihr bundesweites Lagebild zum Antisemitismus 2016/17 vorgelegt. Das Fazit: Keine Gruppierung in Deutschland ist gänzlich frei von Antisemitismus. Antisemitismus wird offener und aggressiver ausgelebt und statt des klassischen Antisemitismus wird der Umweg über „Kritik“ an Israel genommen.\\nDie Amadeu Antonio Stiftung hat ihr Lagebild Antisemitismus 2016/2017 vorgelegt. Daraus lassen sich drei wichtige Erkenntnisse über Antisemitismus in Deutschland ziehen:\\nDie Zustimmung zu klassischen Formen des Antisemitismus nimmt seit Jahren in Deutschland kontinuierlich ab.\\nStattdessen äußern die Deutschen ihren Antisemitismus über Umwege, vielfach in Form von antisemitischen Aussagen mit Israelbezug (israelbezogener Antisemitismus) oder Geschichtsbezug.\\nÖffentlich wahrnehmbare antisemitische Erscheinungen treten wellenförmig auf. Mal sinkt die Zahl antisemitischer Vorfälle, dann steigen sie wieder an. Daraus lässt sich jedoch nicht der Umkehrschluss ziehen, dass Antisemitismus mal ab- und dann wieder zunimmt. Im Gegenteil: Antisemitismus ist in der Gesellschaft jederzeit latent vorhanden und breit mobilisierbar.\\nIn der „Mitte der Gesellschaft“\\nJudenhass aus der demokratischen Mitte wird öffentlich weniger wahrgenommen und diskutiert als Antisemitismus von beispielsweise Rechtsextremen oder in muslimischen Communities. Während laut Studien zu menschenfeindlichen Einstellungen in der Gesellschaft »klassischer« Antisemitismus seit Jahren an Zustimmung verliert, zählt der sogenannte israelbezogene Antisemitismus zu den zentralen Formen des modernen Antisemitismus – auch und gerade in der sogenannten Mitte der Gesellschaft. Diese Form äußert sich häufig indirekt, da allzu offener Antisemitismus vielfach sozial geächtet ist. Der Antisemitismus der demokratischen Mitte tritt meist in Form von Umwegkommunikation zu Tage. Gerade subtile Formen des Antisemitismus stellen eine Gefahr für die demokratischen Werte und das gesellschaftliche Zusammenleben dar, weil sie oft nicht benannt oder bagatellisiert und damit zur Normalität werden.\\nIm Rechtsextremismus & Rechtspopulismus\\nAntisemitismus als Kernideologie der extremen Rechten verbindet Geschichtsrevisionisten, NS-Apologeten, Holocaustleugner mit Anhängern von völkischen Ideologien, Verschwörungstheorien und rechter Esoterik. Antisemitische Ideologiefragmente der extremen Rechten wie die sogenannte „Systemkritik“ sind daher zunehmend anschlussfähig in die breite Bevölkerung.\\nIm rechtspopulistischen Umfeld ist klassischer Antisemitismus um ein Vierfaches höher als im Gesellschaftsdurchschnitt verbreitet. Einer der bestimmenden Faktoren für den Antisemitismus im deutschen Rechtspopulismus ist das Geschichtsbild. Deutschland müsse sich immer noch mit dem Nationalsozialismus auseinander setzen und büße immer noch für die Vergangenheit. Dennoch gibt es auch im rechtspopulistischen Milieu vereinzelte Stimmen mit einem positiven Bezug zu Israel, auch wenn dies nicht konsensfähig ist und die Israelsolidarität zumeist taktisch begründet ist. Das Stichwort: Israel als Bollwerk gegen den Islam.\\nIn muslimisch geprägten Milieus\\nAntisemitismus unter Muslimen hat viele Gesichter: antisemitische Parolen gegen Israel, aber auch direkte judenfeindliche Äußerungen. Es gibt kaum Untersuchungen über Antisemitismus in muslimisch sozialisierten Milieus. Wie der deutsche Rechtsextremismus ist auch der islamische Dschihadismus nicht ohne Antisemitismus denkbar. Antisemitismus ist dem Dschihadismus inhärent, auch wenn die Szene selbst heterogen ist. für die unterschiedlichen Strömungen des Islamismus ist Antisemitismus eine einende Komponente. Dem Islamismus zuzuordnende Strukturen organisieren oder beteiligen sich beispielsweise an Kundgebungen mit antiisraelischer und antisemitischer Stoßrichtung.\\nUnter Geflüchteten\\nAngesichts der steigenden Zahl von Flüchtlingen aus arabischen Ländern in Deutschland wird die Befürchtung lauter, dass damit auch Antisemitismus aus arabischen Gesellschaften (re-)importiert wird. Hauptsächlich dreht sich die Debatte um Flüchtlinge aus Syrien, Irak und Afghanistan, also Ländern, in denen Feindschaft zu Israel besteht und Antisemitismus verbreitet ist. Zivilgesellschaftliche Akteur_innen, Politik und Teile der jüdischen Gemeinschaft in Deutschland zeigen sich besorgt. Wichtig ist es, rassistische Diskriminierungs- und Desintegrationserfahrungen von Menschen mit Fluchterfahrung in der hiesigen Gesellschaft ernst zu nehmen, sie aber nicht als Anlass misszuverstehen, die Auseinandersetzung mit etwaigen von ihnen vertretenen antisemitischen Sichtweisen zu vermeiden.\\nIn der Linken\\nIm linken Milieu wird Antisemitismus unter dem Mäntelchen eigener Wertevorstellungen mit transportiert. Israel wird im Namen von Antirassismus und Antikolonialismus als kolonialer Apartheidstaat tituliert oder in queeren Zusammenhängern wegen seiner liberalen LGBT*IQ-Politik Pinkwashing unterstellt, um von einer „Unterdrückung“ der Palästinenser abzulenken. Dies führt häufig zur Rechtfertigung oder zum »verständnisvollen Überhören« judenfeindlicher Äußerungen im Kontext von Nahostdebatten. Mit dem Rückzug auf die Position, »keine eindeutige Haltung zum Nahostkonflikt« zu haben, vermeiden es viele Linke, Haltung gegen judenfeindliche Statements und Aktionen zu beziehen. Auch deshalb wird Antisemitismus in der Linken selten breit thematisiert und kritisiert.\\nIm ländlichen Raum\\nAntisemitismus im ländlichen Raum wird von der Mitte kaum wahrgenommen und tabuisiert. Hierzu hat die Amadeu Antonio Stiftung ein separates Lagebild am Beispiel Mecklenburg-Vorpommern herausgegeben. In dem Lagebild Antisemitismus Mecklenburg-Vorpommern kommen jüdische Stimmen zu Wort, die ihre Erfahrungen schildern. Diese Berichte zeigen drastisch, dass es aus der nichtjüdischen Bevölkerungsmehrheit kaum Reaktionen auf stattfinden Antisemitismus gibt.\\nDie Lagebilder Antisemitismus 2016/2017 und Antisemitismus in Mecklenburg-Vorpommern beschreiben die verschiedenen Quellen und Milieus des heutigen Antisemitismus. In der deutschen Gesellschaft ist keine Gruppierung gänzlich frei von Antisemitismus. Dies endlich einzugestehen, wäre ein erster Schritt zur Prävention.\\nDie Broschüre steht unter dem Link unten zum Download bereit oder kann gedruckt bei der Amadeu Antonio Stiftung bestellt werden.\\nDas Lagebild Antisemitismus 2016/2017 ist im Rahmen der Aktionswochen gegen Antisemitismus entstanden, die gemeinsam vom Anne Frank Zentrum und der Amadeu Antonio Stiftung organisiert werden. Gefördert wurde die Broschüre durch das Bundesprogramm \"Demokratie Leben!\" des BFSFJ und dem Anne Frank Zentrum Berlins.\\nLagebild Antisemitismus 2016/17 zum Download (PDF-Dokument)\\nRechtsextremismus\\nLändlicher Raum\\nNovalisstraße 12\\ninfo@amadeu-antonio-stiftung.de\\nTel.: ++49 (0)30. 240 886 10\\nFax: ++49 (0)30. 240 886 22\\nwegewerk > wwEdit CMS 3.5\\nUnsere Webseiten verwenden Cookies zur Verbesserung der Bedienung und des Angebots sowie zur Auswertung von Webseitenbesuchen. Einzelheiten über die von uns eingesetzten Cookies und die Möglichkeit diese abzulehnen, finden Sie in unserer Datenschutzerklärung.', 'cc_segment': 'crawl-data/CC-MAIN-2019-09/segments/1550247479101.30/wet/CC-MAIN-20190215183319-20190215205319-00000.warc.wet.gz', 'original_nlines': 102, 'original_length': 9905, 'line_ids': [11, 13, 14, 15, 16, 18, 19, 21, 22, 23, 25, 27, 31, 37, 38, 39, 41, 42, 44, 45, 47, 48, 50, 51, 54, 55, 56, 57, 58, 59, 60, 61, 62, 63, 64, 65, 66, 67, 68, 69, 70, 71, 72, 73, 74, 75, 77, 82, 86, 88, 89, 90, 99, 100], 'language': 'de', 'language_score': 0.99, 'perplexity': 340.0, 'bucket': 'head'}\n",
      "CPU times: user 1.1 ms, sys: 5.79 ms, total: 6.88 ms\n",
      "Wall time: 5.3 ms\n"
     ]
    }
   ],
   "source": [
    "%%time\n",
    "\n",
    "from cc_net.jsonql import read_jsons\n",
    "\n",
    "for doc in read_jsons(\"/mnt/nvme0n1/chendi/cc_net/test_data/mined_split/2019-09/0000/de_head.json.gz\"):\n",
    "    print(doc)\n",
    "    break"
   ]
  },
  {
   "cell_type": "code",
   "execution_count": 10,
   "metadata": {},
   "outputs": [
    {
     "name": "stderr",
     "output_type": "stream",
     "text": [
      "2023-08-03 02:50 INFO 411304:cc_net.jsonql - Opening /mnt/nvme0n1/chendi/cc_net/test_data/mined/2019-09/de_head_0000.json.gz with mode 'rt'\n"
     ]
    },
    {
     "name": "stdout",
     "output_type": "stream",
     "text": [
      "dict_keys(['url', 'date_download', 'digest', 'length', 'nlines', 'source_domain', 'title', 'raw_content', 'cc_segment', 'original_nlines', 'original_length', 'line_ids', 'language', 'language_score', 'perplexity', 'bucket'])\n"
     ]
    }
   ],
   "source": [
    "for doc in read_jsons(\"/mnt/nvme0n1/chendi/cc_net/test_data/mined/2019-09/de_head_0000.json.gz\"):\n",
    "    print(doc.keys())\n",
    "    break"
   ]
  },
  {
   "cell_type": "code",
   "execution_count": 7,
   "metadata": {},
   "outputs": [
    {
     "name": "stdout",
     "output_type": "stream",
     "text": [
      "ls: cannot access '/mnt/nvme0n1/chendi/cc_net/test_data/mined_split/2019-09/0000/de_head_0000.json.gz': No such file or directory\r\n"
     ]
    }
   ],
   "source": [
    "! ls /mnt/nvme0n1/chendi/cc_net/test_data/mined_split/2019-09/0000/de_head.json.gz"
   ]
  }
 ],
 "metadata": {
  "kernelspec": {
   "display_name": "Python 3",
   "language": "python",
   "name": "python3"
  },
  "language_info": {
   "codemirror_mode": {
    "name": "ipython",
    "version": 3
   },
   "file_extension": ".py",
   "mimetype": "text/x-python",
   "name": "python",
   "nbconvert_exporter": "python",
   "pygments_lexer": "ipython3",
   "version": "3.8.10"
  }
 },
 "nbformat": 4,
 "nbformat_minor": 4
}
